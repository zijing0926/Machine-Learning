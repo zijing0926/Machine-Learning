{
 "cells": [
  {
   "cell_type": "markdown",
   "metadata": {},
   "source": [
    "---\n",
    "\n",
    "_You are currently looking at **version 1.1** of this notebook. To download notebooks and datafiles, as well as get help on Jupyter notebooks in the Coursera platform, visit the [Jupyter Notebook FAQ](https://www.coursera.org/learn/python-machine-learning/resources/bANLa) course resource._\n",
    "\n",
    "---"
   ]
  },
  {
   "cell_type": "markdown",
   "metadata": {},
   "source": [
    "## Assignment 4 - Understanding and Predicting Property Maintenance Fines\n",
    "\n",
    "This assignment is based on a data challenge from the Michigan Data Science Team ([MDST](http://midas.umich.edu/mdst/)). \n",
    "\n",
    "The Michigan Data Science Team ([MDST](http://midas.umich.edu/mdst/)) and the Michigan Student Symposium for Interdisciplinary Statistical Sciences ([MSSISS](https://sites.lsa.umich.edu/mssiss/)) have partnered with the City of Detroit to help solve one of the most pressing problems facing Detroit - blight. [Blight violations](http://www.detroitmi.gov/How-Do-I/Report/Blight-Complaint-FAQs) are issued by the city to individuals who allow their properties to remain in a deteriorated condition. Every year, the city of Detroit issues millions of dollars in fines to residents and every year, many of these fines remain unpaid. Enforcing unpaid blight fines is a costly and tedious process, so the city wants to know: how can we increase blight ticket compliance?\n",
    "\n",
    "The first step in answering this question is understanding when and why a resident might fail to comply with a blight ticket. This is where predictive modeling comes in. For this assignment, your task is to predict whether a given blight ticket will be paid on time.\n",
    "\n",
    "All data for this assignment has been provided to us through the [Detroit Open Data Portal](https://data.detroitmi.gov/). **Only the data already included in your Coursera directory can be used for training the model for this assignment.** Nonetheless, we encourage you to look into data from other Detroit datasets to help inform feature creation and model selection. We recommend taking a look at the following related datasets:\n",
    "\n",
    "* [Building Permits](https://data.detroitmi.gov/Property-Parcels/Building-Permits/xw2a-a7tf)\n",
    "* [Trades Permits](https://data.detroitmi.gov/Property-Parcels/Trades-Permits/635b-dsgv)\n",
    "* [Improve Detroit: Submitted Issues](https://data.detroitmi.gov/Government/Improve-Detroit-Submitted-Issues/fwz3-w3yn)\n",
    "* [DPD: Citizen Complaints](https://data.detroitmi.gov/Public-Safety/DPD-Citizen-Complaints-2016/kahe-efs3)\n",
    "* [Parcel Map](https://data.detroitmi.gov/Property-Parcels/Parcel-Map/fxkw-udwf)\n",
    "\n",
    "___\n",
    "\n",
    "We provide you with two data files for use in training and validating your models: train.csv and test.csv. Each row in these two files corresponds to a single blight ticket, and includes information about when, why, and to whom each ticket was issued. The target variable is compliance, which is True if the ticket was paid early, on time, or within one month of the hearing data, False if the ticket was paid after the hearing date or not at all, and Null if the violator was found not responsible. Compliance, as well as a handful of other variables that will not be available at test-time, are only included in train.csv.\n",
    "\n",
    "Note: All tickets where the violators were found not responsible are not considered during evaluation. They are included in the training set as an additional source of data for visualization, and to enable unsupervised and semi-supervised approaches. However, they are not included in the test set.\n",
    "\n",
    "<br>\n",
    "\n",
    "**File descriptions** (Use only this data for training your model!)\n",
    "\n",
    "    readonly/train.csv - the training set (all tickets issued 2004-2011)\n",
    "    readonly/test.csv - the test set (all tickets issued 2012-2016)\n",
    "    readonly/addresses.csv & readonly/latlons.csv - mapping from ticket id to addresses, and from addresses to lat/lon coordinates. \n",
    "     Note: misspelled addresses may be incorrectly geolocated.\n",
    "\n",
    "<br>\n",
    "\n",
    "**Data fields**\n",
    "\n",
    "train.csv & test.csv\n",
    "\n",
    "    ticket_id - unique identifier for tickets\n",
    "    agency_name - Agency that issued the ticket\n",
    "    inspector_name - Name of inspector that issued the ticket\n",
    "    violator_name - Name of the person/organization that the ticket was issued to\n",
    "    violation_street_number, violation_street_name, violation_zip_code - Address where the violation occurred\n",
    "    mailing_address_str_number, mailing_address_str_name, city, state, zip_code, non_us_str_code, country - Mailing address of the violator\n",
    "    ticket_issued_date - Date and time the ticket was issued\n",
    "    hearing_date - Date and time the violator's hearing was scheduled\n",
    "    violation_code, violation_description - Type of violation\n",
    "    disposition - Judgment and judgement type\n",
    "    fine_amount - Violation fine amount, excluding fees\n",
    "    admin_fee - $20 fee assigned to responsible judgments\n",
    "state_fee - $10 fee assigned to responsible judgments\n",
    "    late_fee - 10% fee assigned to responsible judgments\n",
    "    discount_amount - discount applied, if any\n",
    "    clean_up_cost - DPW clean-up or graffiti removal cost\n",
    "    judgment_amount - Sum of all fines and fees\n",
    "    grafitti_status - Flag for graffiti violations\n",
    "    \n",
    "train.csv only\n",
    "\n",
    "    payment_amount - Amount paid, if any\n",
    "    payment_date - Date payment was made, if it was received\n",
    "    payment_status - Current payment status as of Feb 1 2017\n",
    "    balance_due - Fines and fees still owed\n",
    "    collection_status - Flag for payments in collections\n",
    "    compliance [target variable for prediction] \n",
    "     Null = Not responsible\n",
    "     0 = Responsible, non-compliant\n",
    "     1 = Responsible, compliant\n",
    "    compliance_detail - More information on why each ticket was marked compliant or non-compliant\n",
    "\n",
    "\n",
    "___\n",
    "\n",
    "## Evaluation\n",
    "\n",
    "Your predictions will be given as the probability that the corresponding blight ticket will be paid on time.\n",
    "\n",
    "The evaluation metric for this assignment is the Area Under the ROC Curve (AUC). \n",
    "\n",
    "Your grade will be based on the AUC score computed for your classifier. A model which with an AUROC of 0.7 passes this assignment, over 0.75 will recieve full points.\n",
    "___\n",
    "\n",
    "For this assignment, create a function that trains a model to predict blight ticket compliance in Detroit using `readonly/train.csv`. Using this model, return a series of length 61001 with the data being the probability that each corresponding ticket from `readonly/test.csv` will be paid, and the index being the ticket_id.\n",
    "\n",
    "Example:\n",
    "\n",
    "    ticket_id\n",
    "       284932    0.531842\n",
    "       285362    0.401958\n",
    "       285361    0.105928\n",
    "       285338    0.018572\n",
    "                 ...\n",
    "       376499    0.208567\n",
    "       376500    0.818759\n",
    "       369851    0.018528\n",
    "       Name: compliance, dtype: float32\n",
    "       \n",
    "### Hints\n",
    "\n",
    "* Make sure your code is working before submitting it to the autograder.\n",
    "\n",
    "* Print out your result to see whether there is anything weird (e.g., all probabilities are the same).\n",
    "\n",
    "* Generally the total runtime should be less than 10 mins. You should NOT use Neural Network related classifiers (e.g., MLPClassifier) in this question. \n",
    "\n",
    "* Try to avoid global variables. If you have other functions besides blight_model, you should move those functions inside the scope of blight_model.\n",
    "\n",
    "* Refer to the pinned threads in Week 4's discussion forum when there is something you could not figure it out."
   ]
  },
  {
   "cell_type": "code",
   "execution_count": 5,
   "metadata": {
    "collapsed": false
   },
   "outputs": [
    {
     "name": "stderr",
     "output_type": "stream",
     "text": [
      "/opt/conda/lib/python3.6/site-packages/IPython/core/interactiveshell.py:2717: DtypeWarning: Columns (11,12,31) have mixed types. Specify dtype option on import or set low_memory=False.\n",
      "  interactivity=interactivity, compiler=compiler, result=result)\n"
     ]
    }
   ],
   "source": [
    "import pandas as pd\n",
    "import numpy as np\n",
    "#import train, test, address,latlons data\n",
    "train=pd.read_csv('train.csv', encoding = \"ISO-8859-1\")\n",
    "test=pd.read_csv('test.csv')\n",
    "address=pd.read_csv('addresses.csv')\n",
    "latlons=pd.read_csv('latlons.csv')\n",
    "#merge train, test with address, latlons,\n",
    "train=pd.merge(train, address, on='ticket_id',how='left')\n",
    "train=pd.merge(train, latlons, on='address',how='left')\n",
    "test=pd.merge(test, address, on='ticket_id',how='left')\n",
    "test=pd.merge(test, latlons, on='address',how='left')\n",
    "#forwardfill NA\n",
    "#train.lat.fillna(method='pad', inplace=True)\n",
    "#train.lon.fillna(method='pad', inplace=True)\n",
    "#test.lat.fillna(method='pad', inplace=True)\n",
    "#test.lon.fillna(method='pad', inplace=True)\n",
    "#train.violation_street_number.fillna(method='pad', inplace=True)\n",
    "#train.mailing_address_str_number.fillna(method='pad', inplace=True)\n",
    "#test.violation_street_number.fillna(method='pad', inplace=True)\n",
    "#test.mailing_address_str_number.fillna(method='pad', inplace=True)\n",
    "#extract zip code from address\n",
    "test['zip'] = test['address'] .str.extract(\"(\\d*\\.?\\d+)\", expand=True)\n",
    "train['zip'] = train['address'] .str.extract(\"(\\d*\\.?\\d+)\", expand=True)\n",
    "test['zip']=pd.to_numeric(test['zip'], errors='coerce')\n",
    "train['zip']=pd.to_numeric(train['zip'], errors='coerce')\n",
    "#get rid of unwanted part from mailing address street number\n",
    "test['mailing_address_str_number'].replace(regex=True,inplace=True,to_replace=r'\\D',value=r'')\n",
    "train['mailing_address_str_number'].replace(regex=True,inplace=True,to_replace=r'\\D',value=r'')\n",
    "test['violation_street_number'].replace(regex=True,inplace=True,to_replace=r'\\D',value=r'')\n",
    "train['violation_street_number'].replace(regex=True,inplace=True,to_replace=r'\\D',value=r'')\n",
    "test['mailing_address_str_number']=pd.to_numeric(test['mailing_address_str_number'], errors='coerce')\n",
    "train['mailing_address_str_number']=pd.to_numeric(train['mailing_address_str_number'], errors='coerce')\n",
    "train['mailing_address_str_number']=pd.to_numeric(train['mailing_address_str_number'], errors='coerce')\n",
    "test['mailing_address_str_number']=pd.to_numeric(test['mailing_address_str_number'], errors='coerce')\n",
    "test= test.replace(np.nan, 0, regex=True)\n",
    "train= train.replace(np.nan, 0, regex=True)\n",
    "#test.columns\n",
    "#drop Null situation for compliance\n",
    "train= train[(train['compliance'] == 0) | (train['compliance'] == 1)]\n",
    "#define features and target\n",
    "X=train[['fine_amount','lat','lon','zip','mailing_address_str_number','violation_street_number','clean_up_cost','judgment_amount','admin_fee','state_fee']]\n",
    "y=train['compliance']\n",
    "X_test=test[['fine_amount','lat','lon','zip','mailing_address_str_number','violation_street_number','clean_up_cost','judgment_amount','admin_fee','state_fee']]\n",
    "#use one hot encoder for categorical data\n",
    "#from sklearn.preprocessing import OneHotEncoder\n",
    "#ohe = OneHotEncoder(sparse=False)\n",
    "#X = ohe.fit_transform(X)\n"
   ]
  },
  {
   "cell_type": "code",
   "execution_count": null,
   "metadata": {
    "collapsed": false
   },
   "outputs": [],
   "source": []
  },
  {
   "cell_type": "code",
   "execution_count": 6,
   "metadata": {
    "collapsed": false
   },
   "outputs": [
    {
     "data": {
      "text/plain": [
       "ticket_id\n",
       "284932    0.066361\n",
       "285362    0.024254\n",
       "285361    0.084624\n",
       "285338    0.077710\n",
       "285346    0.094324\n",
       "285345    0.077710\n",
       "285347    0.080090\n",
       "285342    0.314381\n",
       "285530    0.050963\n",
       "284989    0.040257\n",
       "285344    0.074515\n",
       "285343    0.052933\n",
       "285340    0.053286\n",
       "285341    0.080090\n",
       "285349    0.094324\n",
       "285348    0.077710\n",
       "284991    0.057377\n",
       "285532    0.065043\n",
       "285406    0.028999\n",
       "285001    0.078746\n",
       "285006    0.061896\n",
       "285405    0.024254\n",
       "285337    0.038789\n",
       "285496    0.066500\n",
       "285497    0.085272\n",
       "285378    0.030382\n",
       "285589    0.035167\n",
       "285585    0.061439\n",
       "285501    0.083534\n",
       "285581    0.023386\n",
       "            ...   \n",
       "376367    0.041902\n",
       "376366    0.036322\n",
       "376362    0.035765\n",
       "376363    0.065967\n",
       "376365    0.040229\n",
       "376364    0.034864\n",
       "376228    0.050543\n",
       "376265    0.032007\n",
       "376286    0.338833\n",
       "376320    0.034290\n",
       "376314    0.034776\n",
       "376327    0.446456\n",
       "376385    0.422423\n",
       "376435    0.100169\n",
       "376370    0.446456\n",
       "376434    0.063723\n",
       "376459    0.082880\n",
       "376478    0.017538\n",
       "376473    0.039517\n",
       "376484    0.038910\n",
       "376482    0.044160\n",
       "376480    0.044160\n",
       "376479    0.044160\n",
       "376481    0.044160\n",
       "376483    0.041456\n",
       "376496    0.028867\n",
       "376497    0.028867\n",
       "376499    0.077342\n",
       "376500    0.077342\n",
       "369851    0.262226\n",
       "dtype: float64"
      ]
     },
     "execution_count": 6,
     "metadata": {},
     "output_type": "execute_result"
    }
   ],
   "source": [
    "from sklearn.svm import SVC\n",
    "from sklearn.model_selection import GridSearchCV\n",
    "from sklearn.metrics import roc_auc_score, precision_recall_curve,roc_curve, auc\n",
    "from sklearn.model_selection import train_test_split\n",
    "from sklearn.ensemble import GradientBoostingClassifier\n",
    "from sklearn.linear_model import LogisticRegression\n",
    "from sklearn.ensemble import RandomForestClassifier\n",
    "from sklearn.preprocessing import MinMaxScaler\n",
    "\n",
    "\n",
    "def blight_model():\n",
    "    \n",
    "    # Your code here\n",
    "    #X_train, X_test, y_train, y_test = train_test_split(X, y, random_state=0)\n",
    "    #scaler = MinMaxScaler()\n",
    "    #X_scaled = scaler.fit_transform(X)\n",
    "    #X_test_scaled = scaler.transform(X_test)\n",
    "    #clf = SVC(kernel='rbf',C=1).fit(X_scaled, y)\n",
    "    #y_proba= LogisticRegression().fit(X,y).predict_proba(X_test)\n",
    "    clf = GradientBoostingClassifier(learning_rate = 0.1, random_state = 0)\n",
    "    #clf = RandomForestClassifier(random_state=0)\n",
    "    y_proba= clf.fit(X, y).predict_proba(X_test)\n",
    "    #y_score = clf.fit(X_train, y_train).decision_function(X_test)\n",
    "    #fpr, tpr, _ = roc_curve(y_test, y_score)\n",
    "    #roc_auc = auc(fpr, tpr)\n",
    "    s = pd.Series(y_proba[:,1], index=test['ticket_id'])\n",
    "    return s\n",
    "\n",
    "blight_model()"
   ]
  },
  {
   "cell_type": "code",
   "execution_count": 4,
   "metadata": {
    "collapsed": false
   },
   "outputs": [
    {
     "data": {
      "text/plain": [
       "61001"
      ]
     },
     "execution_count": 4,
     "metadata": {},
     "output_type": "execute_result"
    }
   ],
   "source": [
    "#len(blight_model())\n",
    "#test.shape\n",
    "#blight_model().shape"
   ]
  },
  {
   "cell_type": "code",
   "execution_count": 28,
   "metadata": {
    "collapsed": false
   },
   "outputs": [],
   "source": [
    "\n",
    "#clf = GradientBoostingClassifier(random_state = 0).fit(X,y)\n",
    "#clf = GradientBoostingClassifier(learning_rate =0.1,random_state = 0)\n",
    "#clf = RandomForestClassifier(random_state=0)\n",
    "#X_train, X_test, y_train, y_test = train_test_split(X, y, random_state=0)\n",
    "#y_score = clf.fit(X_train, y_train).decision_function(X_test)\n",
    "#fpr, tpr, _ = roc_curve(y_test, y_score)\n",
    "#roc_auc = auc(fpr, tpr)\n",
    "#roc_auc\n",
    "#clf = SVC(kernel='rbf')\n",
    "#X_test=test[['fine_amount','lat','lon','clean_up_cost']]\n",
    "#grid_clf_auc = GridSearchCV(clf, param_grid = [{'C': [0.01, 0.1, 1], 'gamma': [0.01, 0.1, 1]}],scoring = 'roc_auc')\n",
    "#grid_clf_auc = GridSearchCV(clf, param_grid = [{'learning_rate': [0.01, 0.1, 1, 10],'max_depth':[3,4,5]}],scoring = 'roc_auc')\n",
    "#grid_clf_auc.fit(X, y)\n",
    "#y_decision_fn_scores_auc = grid_clf_auc.decision_function(X_test) \n",
    "#grid_clf_auc.best_params_"
   ]
  },
  {
   "cell_type": "code",
   "execution_count": null,
   "metadata": {
    "collapsed": false
   },
   "outputs": [],
   "source": [
    "#roc_auc\n",
    "#grid_clf_auc.fit(X, y)\n",
    "#y_decision_fn_scores_auc = grid_clf_auc.decision_function(X_test) \n",
    "#grid_clf_auc.best_params_"
   ]
  },
  {
   "cell_type": "code",
   "execution_count": 11,
   "metadata": {
    "collapsed": false
   },
   "outputs": [
    {
     "data": {
      "text/plain": [
       "Index(['ticket_id', 'agency_name', 'inspector_name', 'violator_name',\n",
       "       'violation_street_number', 'violation_street_name',\n",
       "       'violation_zip_code', 'mailing_address_str_number',\n",
       "       'mailing_address_str_name', 'city', 'state', 'zip_code',\n",
       "       'non_us_str_code', 'country', 'ticket_issued_date', 'hearing_date',\n",
       "       'violation_code', 'violation_description', 'disposition', 'fine_amount',\n",
       "       'admin_fee', 'state_fee', 'late_fee', 'discount_amount',\n",
       "       'clean_up_cost', 'judgment_amount', 'grafitti_status', 'address', 'lat',\n",
       "       'lon'],\n",
       "      dtype='object')"
      ]
     },
     "execution_count": 11,
     "metadata": {},
     "output_type": "execute_result"
    }
   ],
   "source": [
    "#test.columns\n",
    "#grid_clf_auc.best_score_"
   ]
  },
  {
   "cell_type": "code",
   "execution_count": 13,
   "metadata": {
    "collapsed": false
   },
   "outputs": [
    {
     "data": {
      "text/plain": [
       "0        48213\n",
       "1        48219\n",
       "2        48219\n",
       "3        48183\n",
       "4        48154\n",
       "5        48154\n",
       "6        48154\n",
       "7        48306\n",
       "8        29054\n",
       "9        94539\n",
       "10       48187\n",
       "11       48187\n",
       "12       48209\n",
       "13       48209\n",
       "14       75225\n",
       "15       75225\n",
       "16       63042\n",
       "17       48217\n",
       "18       48228\n",
       "19       48236\n",
       "20       48236\n",
       "21       91335\n",
       "22       29054\n",
       "23       48193\n",
       "24       48193\n",
       "25       95129\n",
       "26       84065\n",
       "27       48235\n",
       "28       48202\n",
       "29       48238\n",
       "         ...  \n",
       "60971    48235\n",
       "60972    48235\n",
       "60973    48237\n",
       "60974    48237\n",
       "60975    48221\n",
       "60976    48221\n",
       "60977    48207\n",
       "60978    48112\n",
       "60979    48034\n",
       "60980    48221\n",
       "60981    48215\n",
       "60982    48202\n",
       "60983    48201\n",
       "60984    48206\n",
       "60985    48226\n",
       "60986    48205\n",
       "60987    48207\n",
       "60988    48207\n",
       "60989    48310\n",
       "60990    48124\n",
       "60991    70810\n",
       "60992    70810\n",
       "60993    70810\n",
       "60994    70810\n",
       "60995    70810\n",
       "60996    48037\n",
       "60997    48037\n",
       "60998    48213\n",
       "60999    48224\n",
       "61000    48203\n",
       "Name: zip_code, dtype: object"
      ]
     },
     "execution_count": 13,
     "metadata": {},
     "output_type": "execute_result"
    }
   ],
   "source": [
    "#test['zip_code']"
   ]
  },
  {
   "cell_type": "code",
   "execution_count": null,
   "metadata": {
    "collapsed": true
   },
   "outputs": [],
   "source": []
  }
 ],
 "metadata": {
  "coursera": {
   "course_slug": "python-machine-learning",
   "graded_item_id": "nNS8l",
   "launcher_item_id": "yWWk7",
   "part_id": "w8BSS"
  },
  "kernelspec": {
   "display_name": "Python 3",
   "language": "python",
   "name": "python3"
  },
  "language_info": {
   "codemirror_mode": {
    "name": "ipython",
    "version": 3
   },
   "file_extension": ".py",
   "mimetype": "text/x-python",
   "name": "python",
   "nbconvert_exporter": "python",
   "pygments_lexer": "ipython3",
   "version": "3.6.2"
  }
 },
 "nbformat": 4,
 "nbformat_minor": 2
}
